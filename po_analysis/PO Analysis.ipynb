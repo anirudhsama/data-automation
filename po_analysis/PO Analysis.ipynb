{
 "metadata": {
  "language_info": {
   "codemirror_mode": {
    "name": "ipython",
    "version": 3
   },
   "file_extension": ".py",
   "mimetype": "text/x-python",
   "name": "python",
   "nbconvert_exporter": "python",
   "pygments_lexer": "ipython3",
   "version": "3.8.7-final"
  },
  "orig_nbformat": 2,
  "kernelspec": {
   "name": "python3",
   "display_name": "Python 3.8.7 64-bit ('venv')",
   "metadata": {
    "interpreter": {
     "hash": "409cc12cac416d07c47f2ea26632806d9b2c076d82758ce33bc9d494c3e13da5"
    }
   }
  }
 },
 "nbformat": 4,
 "nbformat_minor": 2,
 "cells": [
  {
   "cell_type": "code",
   "execution_count": 1,
   "metadata": {},
   "outputs": [],
   "source": [
    "import pandas as pd\n",
    "import numpy as np"
   ]
  },
  {
   "source": [
    "Read the CSVs"
   ],
   "cell_type": "markdown",
   "metadata": {}
  },
  {
   "cell_type": "code",
   "execution_count": 2,
   "metadata": {},
   "outputs": [
    {
     "output_type": "execute_result",
     "data": {
      "text/plain": [
       "(6686, 16)"
      ]
     },
     "metadata": {},
     "execution_count": 2
    }
   ],
   "source": [
    "order = pd.read_csv('order.csv')\n",
    "purchase = pd.read_csv('purchase.csv')\n",
    "\n",
    "purchase.shape"
   ]
  },
  {
   "source": [
    "## Construct the Vlookup column\n",
    "The lookup column is by combining the fc_id_dv_id_distributor_id"
   ],
   "cell_type": "markdown",
   "metadata": {}
  },
  {
   "cell_type": "code",
   "execution_count": 3,
   "metadata": {},
   "outputs": [],
   "source": [
    "order['lookup_index'] = order['fc_id'].astype(str) + '_' + order['drug_variation_id'].astype(str) + '_' + order['distributor_name'].astype(str)\n",
    "\n",
    "purchase['lookup_index'] = purchase['fc_id'].astype(str) + '_' + purchase['drug_variation_id'].astype(str) + '_' + purchase['distributor_name'].astype(str)"
   ]
  },
  {
   "source": [
    "Drop duplicates based on the lookup_index of order data"
   ],
   "cell_type": "markdown",
   "metadata": {}
  },
  {
   "cell_type": "code",
   "execution_count": 4,
   "metadata": {},
   "outputs": [],
   "source": [
    "order = order.drop_duplicates(subset=['lookup_index'])"
   ]
  },
  {
   "source": [
    "In purchase, pull in the order loose quantity via the lookup column"
   ],
   "cell_type": "markdown",
   "metadata": {}
  },
  {
   "cell_type": "code",
   "execution_count": 5,
   "metadata": {},
   "outputs": [
    {
     "output_type": "execute_result",
     "data": {
      "text/plain": [
       "(6686, 18)"
      ]
     },
     "metadata": {},
     "execution_count": 5
    }
   ],
   "source": [
    "purchase = purchase.merge(order[['loose_quantity', 'lookup_index']], how = 'left', on = 'lookup_index', suffixes=(None, '_ordered'))\n",
    "purchase.shape"
   ]
  },
  {
   "source": [
    "Replace NaN with 0 and set the analysis column value to 'Not ordered'\n",
    "We do this first by duplicating the loose_quantity_y column to a new column called analysis and then updating the NaN values"
   ],
   "cell_type": "markdown",
   "metadata": {}
  },
  {
   "cell_type": "code",
   "execution_count": 6,
   "metadata": {},
   "outputs": [],
   "source": [
    "purchase['analysis'] = purchase['loose_quantity_ordered']\n",
    "purchase['loose_quantity_ordered'] = purchase['loose_quantity_ordered'].fillna(0)\n",
    "purchase['analysis'] = purchase['analysis'].fillna('Not ordered')"
   ]
  },
  {
   "source": [
    "Set the excess, shortage and exact values for the rest of the analysis columns"
   ],
   "cell_type": "markdown",
   "metadata": {}
  },
  {
   "cell_type": "code",
   "execution_count": 7,
   "metadata": {},
   "outputs": [],
   "source": [
    "purchase['analysis'].loc[(purchase['analysis'] != 'Not ordered') & (purchase['loose_quantity'] > purchase['loose_quantity_ordered'])] = 'Excess'"
   ]
  },
  {
   "cell_type": "code",
   "execution_count": 8,
   "metadata": {},
   "outputs": [],
   "source": [
    "purchase['analysis'].loc[(purchase['analysis'] != 'Not ordered') & (purchase['loose_quantity'] < purchase['loose_quantity_ordered'])] = 'Shortage'"
   ]
  },
  {
   "cell_type": "code",
   "execution_count": 9,
   "metadata": {},
   "outputs": [],
   "source": [
    "purchase['analysis'].loc[(purchase['analysis'] != 'Not ordered') & (purchase['loose_quantity'] == purchase['loose_quantity_ordered'])] = 'Equal'"
   ]
  },
  {
   "source": [
    "Output the file"
   ],
   "cell_type": "markdown",
   "metadata": {}
  },
  {
   "cell_type": "code",
   "execution_count": 10,
   "metadata": {},
   "outputs": [],
   "source": [
    "purchase.to_csv('output.csv')"
   ]
  },
  {
   "cell_type": "code",
   "execution_count": 11,
   "metadata": {},
   "outputs": [
    {
     "output_type": "execute_result",
     "data": {
      "text/plain": [
       "analysis                                        Equal  Excess  Not ordered  \\\n",
       "distributor_name                                                             \n",
       "Bhagerathi Enterprises                           17.0    12.0          NaN   \n",
       "M Ratan Agencies                                 37.0    20.0         32.0   \n",
       "MAHAVEER MEDI-SALES PVT. LTD.                  2755.0   222.0        843.0   \n",
       "MEHUL AGENCIES                                  434.0   206.0         55.0   \n",
       "Nikhil Enterprises                               13.0     2.0          2.0   \n",
       "PADMAVATI ENTERPRISES                            27.0     NaN         20.0   \n",
       "Shubh Enterprises                                40.0     7.0          1.0   \n",
       "VARDHAMAN PHARMA Distributors Private Limited  1177.0    78.0        452.0   \n",
       "\n",
       "analysis                                       Shortage  \n",
       "distributor_name                                         \n",
       "Bhagerathi Enterprises                              1.0  \n",
       "M Ratan Agencies                                    2.0  \n",
       "MAHAVEER MEDI-SALES PVT. LTD.                     117.0  \n",
       "MEHUL AGENCIES                                     57.0  \n",
       "Nikhil Enterprises                                  NaN  \n",
       "PADMAVATI ENTERPRISES                               1.0  \n",
       "Shubh Enterprises                                   NaN  \n",
       "VARDHAMAN PHARMA Distributors Private Limited      56.0  "
      ],
      "text/html": "<div>\n<style scoped>\n    .dataframe tbody tr th:only-of-type {\n        vertical-align: middle;\n    }\n\n    .dataframe tbody tr th {\n        vertical-align: top;\n    }\n\n    .dataframe thead th {\n        text-align: right;\n    }\n</style>\n<table border=\"1\" class=\"dataframe\">\n  <thead>\n    <tr style=\"text-align: right;\">\n      <th>analysis</th>\n      <th>Equal</th>\n      <th>Excess</th>\n      <th>Not ordered</th>\n      <th>Shortage</th>\n    </tr>\n    <tr>\n      <th>distributor_name</th>\n      <th></th>\n      <th></th>\n      <th></th>\n      <th></th>\n    </tr>\n  </thead>\n  <tbody>\n    <tr>\n      <th>Bhagerathi Enterprises</th>\n      <td>17.0</td>\n      <td>12.0</td>\n      <td>NaN</td>\n      <td>1.0</td>\n    </tr>\n    <tr>\n      <th>M Ratan Agencies</th>\n      <td>37.0</td>\n      <td>20.0</td>\n      <td>32.0</td>\n      <td>2.0</td>\n    </tr>\n    <tr>\n      <th>MAHAVEER MEDI-SALES PVT. LTD.</th>\n      <td>2755.0</td>\n      <td>222.0</td>\n      <td>843.0</td>\n      <td>117.0</td>\n    </tr>\n    <tr>\n      <th>MEHUL AGENCIES</th>\n      <td>434.0</td>\n      <td>206.0</td>\n      <td>55.0</td>\n      <td>57.0</td>\n    </tr>\n    <tr>\n      <th>Nikhil Enterprises</th>\n      <td>13.0</td>\n      <td>2.0</td>\n      <td>2.0</td>\n      <td>NaN</td>\n    </tr>\n    <tr>\n      <th>PADMAVATI ENTERPRISES</th>\n      <td>27.0</td>\n      <td>NaN</td>\n      <td>20.0</td>\n      <td>1.0</td>\n    </tr>\n    <tr>\n      <th>Shubh Enterprises</th>\n      <td>40.0</td>\n      <td>7.0</td>\n      <td>1.0</td>\n      <td>NaN</td>\n    </tr>\n    <tr>\n      <th>VARDHAMAN PHARMA Distributors Private Limited</th>\n      <td>1177.0</td>\n      <td>78.0</td>\n      <td>452.0</td>\n      <td>56.0</td>\n    </tr>\n  </tbody>\n</table>\n</div>"
     },
     "metadata": {},
     "execution_count": 11
    }
   ],
   "source": [
    "table = pd.pivot_table(purchase, index=['distributor_name'], columns=['analysis'], values=\"loose_quantity\", aggfunc='count')\n",
    "table"
   ]
  },
  {
   "cell_type": "code",
   "execution_count": 12,
   "metadata": {},
   "outputs": [],
   "source": [
    "table.to_csv('pivot.csv',index_label=[table.index.name])"
   ]
  }
 ]
}